{
 "cells": [
  {
   "cell_type": "markdown",
   "metadata": {},
   "source": [
    "# Sentiment Analysis\n",
    "In this notebook, we apply sentiment analysis to all bills in order to determine the attitude of a bills towards it subject. We use a lexion based approach, since an ML approach is not feasible because the dataset is not annotated with sentiments. We use the SentiWordnet as the sentiment lexicon"
   ]
  },
  {
   "cell_type": "markdown",
   "metadata": {},
   "source": [
    "## Preprocessing"
   ]
  },
  {
   "cell_type": "code",
   "execution_count": 59,
   "metadata": {},
   "outputs": [
    {
     "data": {
      "text/plain": [
       "9223372036854775807"
      ]
     },
     "execution_count": 59,
     "metadata": {},
     "output_type": "execute_result"
    }
   ],
   "source": [
    "import nltk\n",
    "from nltk.corpus import wordnet as wn\n",
    "from nltk.corpus import sentiwordnet as swn\n",
    "from nltk.corpus import stopwords\n",
    "import numpy as np\n",
    "import csv\n",
    "import sys\n",
    "\n",
    "csv.field_size_limit(sys.maxsize)"
   ]
  },
  {
   "cell_type": "code",
   "execution_count": 12,
   "metadata": {},
   "outputs": [],
   "source": [
    "bills_file_path = \"112.csv\"\n",
    "id_column = 0\n",
    "summary_column = 3"
   ]
  },
  {
   "cell_type": "code",
   "execution_count": 16,
   "metadata": {},
   "outputs": [],
   "source": [
    "# Read the bills CSV file\n",
    "bills = []\n",
    "\n",
    "with open(bills_file_path, newline='') as csvfile:\n",
    "    csvfile.readline() # skip first line with headers\n",
    "    rows = csv.reader(csvfile, delimiter='|')\n",
    "    \n",
    "    for row in rows:\n",
    "        bill = dict()\n",
    "        bill['id'] = row[id_column]\n",
    "        bill['summary'] = row[summary_column]\n",
    "        bills.append(bill)"
   ]
  },
  {
   "cell_type": "code",
   "execution_count": 19,
   "metadata": {},
   "outputs": [],
   "source": [
    "# Tokenize the bill sumaries\n",
    "for bill in bills:\n",
    "    summary = bill['summary']\n",
    "    tokenized_summary = nltk.word_tokenize(summary)\n",
    "    bill['tokenized_summary'] = tokenized_summary"
   ]
  },
  {
   "cell_type": "code",
   "execution_count": 30,
   "metadata": {},
   "outputs": [],
   "source": [
    "# Lemmatize and filter the summaries\n",
    "stop_words = set(stopwords.words('english')) \n",
    "\n",
    "un2wn_mapping = {\"VERB\" : wn.VERB, \"NOUN\" : wn.NOUN, \"ADJ\" : wn.ADJ, \"ADV\" : wn.ADV}\n",
    "for bill in bills:\n",
    "    lemmatized_summary = []\n",
    "    for w, p in nltk.pos_tag(bill['tokenized_summary'], tagset=\"universal\"):\n",
    "        if p in [\"PUNCT\"] or w.lower() in stop_words:\n",
    "            continue\n",
    "        elif p in un2wn_mapping.keys():\n",
    "            lemma = nltk.WordNetLemmatizer().lemmatize(w, pos = un2wn_mapping[p])\n",
    "        elif p in [\"PROPN\"]:\n",
    "            lemma = nltk.WordNetLemmatizer().lemmatize(w)\n",
    "        else:\n",
    "            continue\n",
    "        \n",
    "        lemma_pos = (lemma.lower(), un2wn_mapping[p])\n",
    "        lemmatized_summary.append(lemma_pos)  # case insensitive\n",
    "        \n",
    "    bill['lemmatized_summary'] = lemmatized_summary"
   ]
  },
  {
   "cell_type": "markdown",
   "metadata": {},
   "source": [
    "# Sentiment Analysis"
   ]
  },
  {
   "cell_type": "code",
   "execution_count": 21,
   "metadata": {},
   "outputs": [
    {
     "name": "stderr",
     "output_type": "stream",
     "text": [
      "[nltk_data] Downloading package sentiwordnet to\n",
      "[nltk_data]     /Users/Rajiv/nltk_data...\n",
      "[nltk_data]   Package sentiwordnet is already up-to-date!\n"
     ]
    },
    {
     "data": {
      "text/plain": [
       "True"
      ]
     },
     "execution_count": 21,
     "metadata": {},
     "output_type": "execute_result"
    }
   ],
   "source": [
    "nltk.download('sentiwordnet')"
   ]
  },
  {
   "cell_type": "code",
   "execution_count": 81,
   "metadata": {},
   "outputs": [],
   "source": [
    "for bill in bills:\n",
    "    summary = bill['lemmatized_summary']\n",
    "    positive_score = 0\n",
    "    negative_score = 0\n",
    "    \n",
    "    for word, pos in summary:\n",
    "        synsets = list(swn.senti_synsets(word, pos = pos))\n",
    "        word_positivity = np.mean([synset.pos_score() for synset in synsets])\n",
    "        word_negativity = np.mean([synset.neg_score() for synset in synsets])\n",
    "        \n",
    "        positive_score += word_positivity\n",
    "        negative_score += word_negativity\n",
    "    \n",
    "    bill['positive_score'] = positive_score / len(summary)\n",
    "    bill['negative_score'] = negative_score / len(summary)\n",
    "    "
   ]
  },
  {
   "cell_type": "code",
   "execution_count": 85,
   "metadata": {},
   "outputs": [],
   "source": [
    "pos_scores = []\n",
    "neg_scores = []\n",
    "for bill in bills:\n",
    "    pos_scores.append(bill['positive_score'])\n",
    "    neg_scores.append(bill['negative_score'])"
   ]
  },
  {
   "cell_type": "code",
   "execution_count": null,
   "metadata": {},
   "outputs": [],
   "source": []
  }
 ],
 "metadata": {
  "kernelspec": {
   "display_name": "Python 3",
   "language": "python",
   "name": "python3"
  },
  "language_info": {
   "codemirror_mode": {
    "name": "ipython",
    "version": 3
   },
   "file_extension": ".py",
   "mimetype": "text/x-python",
   "name": "python",
   "nbconvert_exporter": "python",
   "pygments_lexer": "ipython3",
   "version": "3.6.8"
  }
 },
 "nbformat": 4,
 "nbformat_minor": 2
}
