{
 "cells": [
  {
   "cell_type": "markdown",
   "metadata": {},
   "source": [
    "# Evaluation of topic modelling\n",
    "This notebook aims to give an evaluation of the accuracy with which the topic of bills are identified.\n",
    "We do this by comparing our results to the topics that are given to bills in the dataset, i.e. bills that have the same topic according to the dataset, should also have the same topic in our results.\n",
    "\n",
    "In the dataset, each bill has a set of topics and one main topic. \n",
    "\n",
    "We will use two metrics for the evaluation, a strict and a loose metric. The strict metric requires the main topic of bills as specified in the dataset to match exactly. The loose metric requires at least $k$ topics to match in the sets of topics to consider two bills as being in the same category."
   ]
  },
  {
   "cell_type": "markdown",
   "metadata": {},
   "source": [
    "### Test set for the evaluation (temporary)"
   ]
  },
  {
   "cell_type": "code",
   "execution_count": 43,
   "metadata": {},
   "outputs": [],
   "source": [
    "import csv\n",
    "import random \n",
    "with open('test_evaluation_data.csv', 'w') as csvfile:\n",
    "    filewriter = csv.writer(csvfile, delimiter='|')\n",
    "    for x in range(500):\n",
    "        topic = random.randint(1, 5)\n",
    "        true_topic = random.choices([topic, random.randint(1, 5)], weights = [8,2])[0]\n",
    "        filewriter.writerow([topic, true_topic, 'none'])"
   ]
  },
  {
   "cell_type": "markdown",
   "metadata": {},
   "source": [
    "### Read results"
   ]
  },
  {
   "cell_type": "code",
   "execution_count": 44,
   "metadata": {},
   "outputs": [],
   "source": [
    "import csv\n",
    "from collections import defaultdict, Counter"
   ]
  },
  {
   "cell_type": "code",
   "execution_count": 45,
   "metadata": {},
   "outputs": [],
   "source": [
    "# Allow for changes in final format of the CSV file by making the relevant column ids variables\n",
    "dataset_main_subject_column = 1\n",
    "dataset_subjects_column = 2\n",
    "topic_column = 0\n",
    "\n",
    "results = 'test_evaluation_data.csv'"
   ]
  },
  {
   "cell_type": "code",
   "execution_count": 55,
   "metadata": {},
   "outputs": [],
   "source": [
    "# Create a dictionary of topics found in results with their respective bills\n",
    "topics = defaultdict(list)\n",
    "\n",
    "with open(results, newline='') as csvfile:\n",
    "    rows = csv.reader(csvfile, delimiter='|')\n",
    "    for row in rows:\n",
    "        bill = dict()\n",
    "        bill['topic'] = row[topic_column]\n",
    "        bill['dataset_subjects'] = row[dataset_subjects_column]\n",
    "        bill['dataset_main_subject'] = row[dataset_main_subject_column]\n",
    "        \n",
    "        topics[bill['topic']].append(bill)"
   ]
  },
  {
   "cell_type": "markdown",
   "metadata": {},
   "source": [
    "We now go over each identified topic and evaluate wether its bills are in fact have the same subject (according to the dataset)"
   ]
  },
  {
   "cell_type": "markdown",
   "metadata": {},
   "source": [
    "### Strict metric"
   ]
  },
  {
   "cell_type": "markdown",
   "metadata": {},
   "source": [
    "Find out how many 'actual topics' each identified topic contains"
   ]
  },
  {
   "cell_type": "code",
   "execution_count": 61,
   "metadata": {},
   "outputs": [],
   "source": [
    "true_topics_per_topic = dict()\n",
    "for topic, bills in topics.items():\n",
    "    true_topics = Counter()\n",
    "    for bill in bills:\n",
    "        true_topic = bill['dataset_main_subject']\n",
    "        true_topics[true_topic] += 1\n",
    "    true_topics_per_topic[topic] = true_topics"
   ]
  },
  {
   "cell_type": "code",
   "execution_count": 68,
   "metadata": {},
   "outputs": [
    {
     "name": "stdout",
     "output_type": "stream",
     "text": [
      "Topic: 1\n",
      "# bills: 95\n",
      "# real topics: 5\n",
      "Most common real topic frequency: 0.8105263157894737\n",
      "---------------------------------------\n",
      "Topic: 5\n",
      "# bills: 107\n",
      "# real topics: 5\n",
      "Most common real topic frequency: 0.8785046728971962\n",
      "---------------------------------------\n",
      "Topic: 3\n",
      "# bills: 102\n",
      "# real topics: 5\n",
      "Most common real topic frequency: 0.7843137254901961\n",
      "---------------------------------------\n",
      "Topic: 4\n",
      "# bills: 91\n",
      "# real topics: 5\n",
      "Most common real topic frequency: 0.8241758241758241\n",
      "---------------------------------------\n",
      "Topic: 2\n",
      "# bills: 105\n",
      "# real topics: 5\n",
      "Most common real topic frequency: 0.8380952380952381\n",
      "---------------------------------------\n"
     ]
    }
   ],
   "source": [
    "for topic, true_topics in true_topics_per_topic.items():\n",
    "    n_bills = sum(true_topics.values())\n",
    "    print(\"Topic:\", topic)\n",
    "    print(\"# bills:\", n_bills)\n",
    "    print(\"# real topics:\", len(true_topics))\n",
    "    print(\"Most common real topic frequency:\", true_topics.most_common(1)[0][1] / n_bills)\n",
    "    print(\"---------------------------------------\")"
   ]
  }
 ],
 "metadata": {
  "kernelspec": {
   "display_name": "Python 3",
   "language": "python",
   "name": "python3"
  },
  "language_info": {
   "codemirror_mode": {
    "name": "ipython",
    "version": 3
   },
   "file_extension": ".py",
   "mimetype": "text/x-python",
   "name": "python",
   "nbconvert_exporter": "python",
   "pygments_lexer": "ipython3",
   "version": "3.6.8"
  }
 },
 "nbformat": 4,
 "nbformat_minor": 2
}
