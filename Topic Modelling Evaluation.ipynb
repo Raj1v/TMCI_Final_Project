{
 "cells": [
  {
   "cell_type": "markdown",
   "metadata": {},
   "source": [
    "# Evaluation of topic modelling\n",
    "This notebook aims to give an evaluation of the accuracy with which the topic of bills are identified.\n",
    "We do this by comparing our results to the topics that are given to bills in the dataset, i.e. bills that have the same topic according to the dataset, should also have the same topic in our results.\n",
    "\n",
    "In the dataset, each bill has a set of topics and one main topic. \n",
    "\n",
    "We will use two metrics for the evaluation, a strict and a loose metric. The strict metric requires the main topic of bills as specified in the dataset to match exactly. The loose metric requires at least $k$ topics to match in the sets of topics to consider two bills as being in the same category."
   ]
  },
  {
   "cell_type": "markdown",
   "metadata": {},
   "source": [
    "### Test set for the evaluation (temporary)"
   ]
  },
  {
   "cell_type": "code",
   "execution_count": 2,
   "metadata": {},
   "outputs": [],
   "source": [
    "import csv\n",
    "import random \n",
    "with open('test_evaluation_data.csv', 'w') as csvfile:\n",
    "    filewriter = csv.writer(csvfile, delimiter='|')\n",
    "    for x in range(500):\n",
    "        topic = random.randint(1, 5)\n",
    "        true_topic = random.choices([topic, random.randint(1, 5)], weights = [8,2])[0]\n",
    "        filewriter.writerow([topic, true_topic, 'none'])"
   ]
  },
  {
   "cell_type": "markdown",
   "metadata": {},
   "source": [
    "### Load LDA & Read results"
   ]
  },
  {
   "cell_type": "code",
   "execution_count": 3,
   "metadata": {},
   "outputs": [
    {
     "data": {
      "text/plain": [
       "131072"
      ]
     },
     "execution_count": 3,
     "metadata": {},
     "output_type": "execute_result"
    }
   ],
   "source": [
    "import csv\n",
    "import sys\n",
    "import gensim\n",
    "from collections import defaultdict, Counter\n",
    "\n",
    "csv.field_size_limit(sys.maxsize)"
   ]
  },
  {
   "cell_type": "code",
   "execution_count": 4,
   "metadata": {},
   "outputs": [],
   "source": [
    "# Allow for changes in final format of the CSV file by making the relevant column ids variables\n",
    "dataset_main_subject_column = 1\n",
    "dataset_subjects_column = 2\n",
    "topic_column = 2\n",
    "\n",
    "results = '112_processed_mallet.csv'"
   ]
  },
  {
   "cell_type": "code",
   "execution_count": 5,
   "metadata": {},
   "outputs": [],
   "source": [
    "# Create a dictionary of topics found in results with their respective bills\n",
    "topics = defaultdict(list)\n",
    "\n",
    "with open(results, newline='') as csvfile:\n",
    "    csvfile.readline()\n",
    "    rows = csv.reader(csvfile, delimiter='|')\n",
    "    for row in rows:\n",
    "        bill = dict()   \n",
    "        bill['topic'] = row[topic_column]\n",
    "        bill['dataset_subjects'] = row[dataset_subjects_column]\n",
    "        bill['dataset_main_subject'] = row[dataset_main_subject_column]\n",
    "        \n",
    "        topics[bill['topic']].append(bill)"
   ]
  },
  {
   "cell_type": "markdown",
   "metadata": {},
   "source": [
    "We now go over each identified topic and evaluate wether its bills are in fact have the same subject (according to the dataset)"
   ]
  },
  {
   "cell_type": "markdown",
   "metadata": {},
   "source": [
    "### Strict metric"
   ]
  },
  {
   "cell_type": "markdown",
   "metadata": {},
   "source": [
    "Find out how many 'actual topics' each identified topic contains"
   ]
  },
  {
   "cell_type": "code",
   "execution_count": 6,
   "metadata": {},
   "outputs": [],
   "source": [
    "true_topics_per_topic = dict()\n",
    "for topic, bills in topics.items():\n",
    "    true_topics = Counter()\n",
    "    for bill in bills:\n",
    "        true_topic = bill['dataset_main_subject']\n",
    "        true_topics[true_topic] += 1\n",
    "    true_topics_per_topic[topic] = true_topics"
   ]
  },
  {
   "cell_type": "code",
   "execution_count": 7,
   "metadata": {
    "scrolled": true
   },
   "outputs": [
    {
     "name": "stdout",
     "output_type": "stream",
     "text": [
      "Topic: 1\n",
      "# bills: 198\n",
      "# real topics: 26\n",
      "Most common real topic frequency: 0.35858585858585856\n",
      "---------------------------------------\n",
      "Topic: 0\n",
      "# bills: 2101\n",
      "# real topics: 8\n",
      "Most common real topic frequency: 0.99428843407901\n",
      "---------------------------------------\n",
      "Topic: 4\n",
      "# bills: 238\n",
      "# real topics: 13\n",
      "Most common real topic frequency: 0.773109243697479\n",
      "---------------------------------------\n",
      "Topic: 26\n",
      "# bills: 232\n",
      "# real topics: 17\n",
      "Most common real topic frequency: 0.5905172413793104\n",
      "---------------------------------------\n",
      "Topic: 10\n",
      "# bills: 222\n",
      "# real topics: 24\n",
      "Most common real topic frequency: 0.32882882882882886\n",
      "---------------------------------------\n",
      "Topic: 9\n",
      "# bills: 220\n",
      "# real topics: 18\n",
      "Most common real topic frequency: 0.5\n",
      "---------------------------------------\n",
      "Topic: 18\n",
      "# bills: 671\n",
      "# real topics: 22\n",
      "Most common real topic frequency: 0.6631892697466468\n",
      "---------------------------------------\n",
      "Topic: 22\n",
      "# bills: 313\n",
      "# real topics: 18\n",
      "Most common real topic frequency: 0.6070287539936102\n",
      "---------------------------------------\n",
      "Topic: 23\n",
      "# bills: 220\n",
      "# real topics: 23\n",
      "Most common real topic frequency: 0.36818181818181817\n",
      "---------------------------------------\n",
      "Topic: 31\n",
      "# bills: 600\n",
      "# real topics: 15\n",
      "Most common real topic frequency: 0.7183333333333334\n",
      "---------------------------------------\n",
      "Topic: 14\n",
      "# bills: 274\n",
      "# real topics: 20\n",
      "Most common real topic frequency: 0.4489051094890511\n",
      "---------------------------------------\n",
      "Topic: 2\n",
      "# bills: 704\n",
      "# real topics: 15\n",
      "Most common real topic frequency: 0.9545454545454546\n",
      "---------------------------------------\n",
      "Topic: 5\n",
      "# bills: 208\n",
      "# real topics: 12\n",
      "Most common real topic frequency: 0.5288461538461539\n",
      "---------------------------------------\n",
      "Topic: 12\n",
      "# bills: 376\n",
      "# real topics: 18\n",
      "Most common real topic frequency: 0.75\n",
      "---------------------------------------\n",
      "Topic: 7\n",
      "# bills: 353\n",
      "# real topics: 19\n",
      "Most common real topic frequency: 0.4192634560906516\n",
      "---------------------------------------\n",
      "Topic: 24\n",
      "# bills: 266\n",
      "# real topics: 17\n",
      "Most common real topic frequency: 0.8082706766917294\n",
      "---------------------------------------\n",
      "Topic: 28\n",
      "# bills: 315\n",
      "# real topics: 24\n",
      "Most common real topic frequency: 0.3396825396825397\n",
      "---------------------------------------\n",
      "Topic: 17\n",
      "# bills: 221\n",
      "# real topics: 30\n",
      "Most common real topic frequency: 0.11764705882352941\n",
      "---------------------------------------\n",
      "Topic: 11\n",
      "# bills: 257\n",
      "# real topics: 22\n",
      "Most common real topic frequency: 0.5136186770428015\n",
      "---------------------------------------\n",
      "Topic: 8\n",
      "# bills: 190\n",
      "# real topics: 27\n",
      "Most common real topic frequency: 0.29473684210526313\n",
      "---------------------------------------\n",
      "Topic: 15\n",
      "# bills: 313\n",
      "# real topics: 18\n",
      "Most common real topic frequency: 0.5527156549520766\n",
      "---------------------------------------\n",
      "Topic: 25\n",
      "# bills: 109\n",
      "# real topics: 21\n",
      "Most common real topic frequency: 0.44036697247706424\n",
      "---------------------------------------\n",
      "Topic: 16\n",
      "# bills: 244\n",
      "# real topics: 23\n",
      "Most common real topic frequency: 0.27049180327868855\n",
      "---------------------------------------\n",
      "Topic: 19\n",
      "# bills: 41\n",
      "# real topics: 15\n",
      "Most common real topic frequency: 0.1951219512195122\n",
      "---------------------------------------\n",
      "Topic: 21\n",
      "# bills: 179\n",
      "# real topics: 16\n",
      "Most common real topic frequency: 0.7430167597765364\n",
      "---------------------------------------\n",
      "Topic: 29\n",
      "# bills: 171\n",
      "# real topics: 14\n",
      "Most common real topic frequency: 0.7017543859649122\n",
      "---------------------------------------\n",
      "Topic: 13\n",
      "# bills: 126\n",
      "# real topics: 23\n",
      "Most common real topic frequency: 0.11904761904761904\n",
      "---------------------------------------\n",
      "Topic: 3\n",
      "# bills: 257\n",
      "# real topics: 20\n",
      "Most common real topic frequency: 0.5836575875486382\n",
      "---------------------------------------\n",
      "Topic: 6\n",
      "# bills: 104\n",
      "# real topics: 24\n",
      "Most common real topic frequency: 0.14423076923076922\n",
      "---------------------------------------\n",
      "Topic: 20\n",
      "# bills: 216\n",
      "# real topics: 24\n",
      "Most common real topic frequency: 0.1388888888888889\n",
      "---------------------------------------\n",
      "Topic: 27\n",
      "# bills: 388\n",
      "# real topics: 24\n",
      "Most common real topic frequency: 0.7680412371134021\n",
      "---------------------------------------\n",
      "Topic: 30\n",
      "# bills: 112\n",
      "# real topics: 21\n",
      "Most common real topic frequency: 0.3125\n",
      "---------------------------------------\n"
     ]
    }
   ],
   "source": [
    "bill_counts = []\n",
    "frequencies = []\n",
    "\n",
    "for topic, true_topics in true_topics_per_topic.items():\n",
    "    n_bills = sum(true_topics.values())\n",
    "    print(\"Topic:\", topic)\n",
    "    print(\"# bills:\", n_bills)\n",
    "    print(\"# real topics:\", len(true_topics))\n",
    "    print(\"Most common real topic frequency:\", true_topics.most_common(1)[0][1] / n_bills)\n",
    "    print(\"---------------------------------------\")\n",
    "    bill_counts.append(n_bills)\n",
    "    frequencies.append(true_topics.most_common(1)[0][1] / n_bills)\n"
   ]
  },
  {
   "cell_type": "code",
   "execution_count": 125,
   "metadata": {
    "scrolled": false
   },
   "outputs": [
    {
     "data": {
      "text/plain": [
       "Counter({'Government operations and politics': 215,\n",
       "         'Congress': 7,\n",
       "         'Crime and law enforcement': 6,\n",
       "         'Armed forces and national security': 5,\n",
       "         'Agriculture and food': 4,\n",
       "         'Finance and financial sector': 4,\n",
       "         'Commerce': 4,\n",
       "         'Economics and public finance': 2,\n",
       "         'Water resources development': 3,\n",
       "         'Emergency management': 7,\n",
       "         'Transportation and public works': 1,\n",
       "         'Education': 2,\n",
       "         'Law': 1,\n",
       "         'Energy': 1,\n",
       "         'Public lands and natural resources': 2,\n",
       "         'Social welfare': 1,\n",
       "         'Housing and community development': 1})"
      ]
     },
     "execution_count": 125,
     "metadata": {},
     "output_type": "execute_result"
    }
   ],
   "source": [
    "true_topics_per_topic['24']"
   ]
  },
  {
   "cell_type": "code",
   "execution_count": 25,
   "metadata": {},
   "outputs": [
    {
     "data": {
      "image/png": "[encoded data removed]",
      "text/plain": [
       "<Figure size 432x288 with 1 Axes>"
      ]
     },
     "metadata": {
      "needs_background": "light"
     },
     "output_type": "display_data"
    }
   ],
   "source": [
    "import matplotlib.pyplot as plt\n",
    "import numpy as np\n",
    "\n",
    "plt.xlabel(\"Number of bills\")\n",
    "plt.ylabel(\"Frequency of most common real topic\")\n",
    "\n",
    "\n",
    "plt.scatter(bill_counts, frequencies, label = \"Topics\")\n",
    "plt.title(\"# of bills in a topic vs topic performance\")\n",
    "plt.xlim(left=0, right=500)\n",
    "plt.show()"
   ]
  },
  {
   "cell_type": "code",
   "execution_count": null,
   "metadata": {},
   "outputs": [],
   "source": []
  }
 ],
 "metadata": {
  "kernelspec": {
   "display_name": "Python 3",
   "language": "python",
   "name": "python3"
  },
  "language_info": {
   "codemirror_mode": {
    "name": "ipython",
    "version": 3
   },
   "file_extension": ".py",
   "mimetype": "text/x-python",
   "name": "python",
   "nbconvert_exporter": "python",
   "pygments_lexer": "ipython3",
   "version": "3.6.8"
  }
 },
 "nbformat": 4,
 "nbformat_minor": 2
}
