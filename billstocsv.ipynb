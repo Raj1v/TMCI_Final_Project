{
 "cells": [
  {
   "cell_type": "code",
   "execution_count": 27,
   "metadata": {},
   "outputs": [],
   "source": [
    "def Tidclean(Tid):\n",
    "    i = 0\n",
    "    while Tid[i] == \"0\":\n",
    "        i += 1\n",
    "    return Tid[i:]"
   ]
  },
  {
   "cell_type": "code",
   "execution_count": 28,
   "metadata": {},
   "outputs": [
    {
     "name": "stdout",
     "output_type": "stream",
     "text": [
      "[['bioguide_id', 'thomas_id', 'party'], ['B000944', '136', 'Democrat'], ['C000127', '172', 'Democrat'], ['C000141', '174', 'Democrat'], ['C000174', '179', 'Democrat'], ['C001070', '1828', 'Democrat'], ['F000062', '1332', 'Democrat'], ['K000367', '1826', 'Democrat'], ['M000639', '791', 'Democrat'], ['S000033', '1010', 'Independent'], ['S000770', '1531', 'Democrat'], ['T000464', '1829', 'Democrat'], ['W000802', '1823', 'Democrat'], ['B001261', '1881', 'Republican'], ['W000437', '1226', 'Republican'], ['A000360', '1695', 'Republican'], ['C001035', '1541', 'Republican'], ['C001056', '1692', 'Republican'], ['D000563', '326', 'Democrat'], ['E000285', '1542', 'Republican']]\n"
     ]
    }
   ],
   "source": [
    "import csv\n",
    "with open('data/legislators/legislators-current.csv', 'r') as f:\n",
    "    reader = csv.reader(f)\n",
    "    your_list = list(reader)\n",
    "    bioguide_index = your_list[0].index(\"bioguide_id\")\n",
    "    thomas_index = your_list[0].index(\"thomas_id\")\n",
    "    party_index = your_list[0].index(\"party\")\n",
    "    legis_current = []\n",
    "    for row in range(len(your_list)):\n",
    "        person = your_list[row]\n",
    "        if len(person[thomas_index]) == 5:\n",
    "            thomas_id = Tidclean(person[thomas_index])\n",
    "            legis_current.append([person[bioguide_index], thomas_id, person[party_index]])\n",
    "        else:\n",
    "            legis_current.append([person[bioguide_index], person[thomas_index], person[party_index]])\n",
    "        \n",
    "print(legis_current[:20])"
   ]
  },
  {
   "cell_type": "code",
   "execution_count": 29,
   "metadata": {
    "scrolled": true
   },
   "outputs": [
    {
     "name": "stdout",
     "output_type": "stream",
     "text": [
      "[['bioguide_id', 'thomas_id', 'party'], ['B000226', '', 'Anti-Administration'], ['B000546', '', ''], ['B001086', '', ''], ['C000187', '', ''], ['C000538', '', ''], ['C000710', '', ''], ['D000013', '', 'Pro-Administration'], ['E000155', '', 'Pro-Administration'], ['F000100', '', 'Anti-Administration'], ['F000224', '', ''], ['G000012', '', ''], ['G000403', '', 'Anti-Administration'], ['G000500', '', ''], ['H000368', '', 'Pro-Administration'], ['H000995', '', ''], ['I000053', '', 'Pro-Administration'], ['J000182', '', 'Pro-Administration'], ['J000198', '', 'Pro-Administration'], ['L000201', '', 'Anti-Administration']]\n"
     ]
    }
   ],
   "source": [
    "import csv\n",
    "with open('data/legislators/legislators-historical.csv', 'r') as f:\n",
    "    reader = csv.reader(f)\n",
    "    your_list = list(reader)\n",
    "    bioguide_index = your_list[0].index(\"bioguide_id\")\n",
    "    thomas_index = your_list[0].index(\"thomas_id\")\n",
    "    party_index = your_list[0].index(\"party\")\n",
    "    legis_historical = []\n",
    "    for row in range(len(your_list)):\n",
    "        person = your_list[row]\n",
    "        if len(person[thomas_index]) == 5:\n",
    "            thomas_id = Tidclean(person[thomas_index])\n",
    "            legis_historical.append([person[bioguide_index], thomas_id, person[party_index]])\n",
    "        else:\n",
    "            legis_historical.append([person[bioguide_index], person[thomas_index], person[party_index]])\n",
    "        \n",
    "print(legis_historical[:20])"
   ]
  },
  {
   "cell_type": "markdown",
   "metadata": {},
   "source": [
    "party: The political party of the legislator. If the legislator changed parties, this is the most recent party held during the term and party_affiliations will be set. Values are typically \"Democrat\", \"Independent\", or \"Republican\". The value typically matches the political party of the legislator on the ballot in his or her last election, although for state affiliate parties such as \"Democratic Farmer Labor\" we will use the national party name (\"Democrat\") instead to keep the values of this field normalized."
   ]
  },
  {
   "cell_type": "code",
   "execution_count": 49,
   "metadata": {
    "scrolled": true
   },
   "outputs": [
    {
     "data": {
      "text/plain": [
       "[['bioguide_id', 'thomas_id', 'party'],\n",
       " ['B000944', '136', 'Democrat'],\n",
       " ['C000127', '172', 'Democrat'],\n",
       " ['C000141', '174', 'Democrat'],\n",
       " ['C000174', '179', 'Democrat']]"
      ]
     },
     "execution_count": 49,
     "metadata": {},
     "output_type": "execute_result"
    }
   ],
   "source": [
    "legislators_ID = []\n",
    "legislators_ID.extend(legis_current)\n",
    "legislators_ID.extend(legis_historical[1:])"
   ]
  },
  {
   "cell_type": "code",
   "execution_count": 58,
   "metadata": {},
   "outputs": [],
   "source": [
    "import csv\n",
    "with open('data/legislators/legislators_ID.csv', 'w') as outcsv:   \n",
    "    writer = csv.writer(outcsv, delimiter=',', quotechar='|', quoting=csv.QUOTE_MINIMAL, lineterminator='\\n')\n",
    "    for item in legislators_ID:\n",
    "        writer.writerow([item[0], item[1], item[2]])"
   ]
  },
  {
   "cell_type": "code",
   "execution_count": 69,
   "metadata": {},
   "outputs": [],
   "source": [
    "with open('data/legislators/legislators_ID.csv', mode='r') as infile:\n",
    "    reader = csv.reader(infile)\n",
    "    dict_bioguide = {}\n",
    "    dict_thomas = {}\n",
    "    for person in reader:\n",
    "        dict_bioguide[person[0]] = person[2]\n",
    "        dict_thomas[person[1]] = person[2]"
   ]
  },
  {
   "cell_type": "code",
   "execution_count": 70,
   "metadata": {},
   "outputs": [],
   "source": [
    "# first we do is for hr bills, congress nr 112\n",
    "import json\n",
    "\n",
    "lo_bills = []\n",
    "\n",
    "# This is our module to get all the bill file paths.\n",
    "from bill_paths import get_bill_file_paths \n",
    "\n",
    "# All the bills are organized alphabetically so instead of hr1, hr2, hr3 you'll get hr1, hr10, hr100 but the order is not relevant to us.\n",
    "bill_paths = get_bill_file_paths(112)\n",
    "\n",
    "#allyears = range(1, 117) #Current year is 116\n",
    "#bill_paths = {}\n",
    "#for year in allyears:\n",
    " #   bill_paths[year] = get_bill_file_paths(year) \n",
    "# if year \n",
    "\n",
    "for path in bill_paths:\n",
    "    with open(path) as json_file:\n",
    "        bill = json.load(json_file)\n",
    "    # First check if the bill contains all the items we want for our project.\n",
    "        if (\"bill_id\" and \"official_title\" and \"subject_top_term\" and \"summary\" and \"sponsor\") in bill.keys():\n",
    "            if bill[\"summary\"] != None:\n",
    "                dictionary = {}\n",
    "                dictionary[\"bill_id\"] = bill[\"bill_id\"]\n",
    "    # We use the official title \n",
    "                dictionary[\"title\"] = bill[\"official_title\"] \n",
    "    # Most bills have many subjects so we decid to only look at the top term for clarity\n",
    "                dictionary[\"subject\"] = bill[\"subjects_top_term\"]\n",
    "                summary_ = bill[\"summary\"]\n",
    "                dictionary[\"summary\"] = summary_[\"text\"]\n",
    "                sponsor = bill[\"sponsor\"]\n",
    "                # find party in csv file from ID\n",
    "                if \"thomas_id\" in sponsor.keys():\n",
    "                    thomas_id = sponsor[\"thomas_id\"]\n",
    "                    party = dict_thomas[Tidclean(thomas_id)]\n",
    "                if \"bioguide_id\" in sponsor.keys():\n",
    "                    party = dict_bioguide[sponsor[\"bioguide_id\"]]\n",
    "                dictionary[\"party\"] = party\n",
    "    \n",
    "    # Appended to the list of bills \n",
    "        lo_bills.append(dictionary)\n",
    "            \n",
    "#per bill we create a dictionary containing the following data:\n",
    "#Bill id, Title, Summary\n",
    "# then, we create a list of all these dictionaries"
   ]
  },
  {
   "cell_type": "code",
   "execution_count": 72,
   "metadata": {},
   "outputs": [],
   "source": [
    "import csv\n",
    "\n",
    "with open('data/112_filtered.csv', 'w') as csvfile:\n",
    "    filewriter = csv.writer(csvfile, delimiter='|')\n",
    "    filewriter.writerow(['bill_id', 'title', 'subject','summary', 'party'])\n",
    "    for bill in lo_bills:\n",
    "        filewriter.writerow([bill['bill_id'], bill['title'], bill['subject'], bill['summary'], bill['party']])"
   ]
  }
 ],
 "metadata": {
  "kernelspec": {
   "display_name": "Python 3",
   "language": "python",
   "name": "python3"
  },
  "language_info": {
   "codemirror_mode": {
    "name": "ipython",
    "version": 3
   },
   "file_extension": ".py",
   "mimetype": "text/x-python",
   "name": "python",
   "nbconvert_exporter": "python",
   "pygments_lexer": "ipython3",
   "version": "3.7.3"
  }
 },
 "nbformat": 4,
 "nbformat_minor": 2
}
