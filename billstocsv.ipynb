{
 "cells": [
  {
   "cell_type": "markdown",
   "metadata": {},
   "source": [
    "Since the thomas_id in the legislators data is filtered from the preceeding zero's we have to do the same."
   ]
  },
  {
   "cell_type": "code",
   "execution_count": 1,
   "metadata": {},
   "outputs": [],
   "source": [
    "def Tidclean(Tid):\n",
    "    i = 0\n",
    "    while Tid[i] == \"0\":\n",
    "        i += 1\n",
    "    return Tid[i:]"
   ]
  },
  {
   "cell_type": "markdown",
   "metadata": {},
   "source": [
    "First we will create another csv file which will make it easier to look up the correlated party with the thomas or bioguide id. "
   ]
  },
  {
   "cell_type": "code",
   "execution_count": 2,
   "metadata": {},
   "outputs": [],
   "source": [
    "import csv\n",
    "with open('data/legislators/legislators-current.csv', 'r') as f:\n",
    "    reader = csv.reader(f)\n",
    "    your_list = list(reader)\n",
    "    bioguide_index = your_list[0].index(\"bioguide_id\")\n",
    "    thomas_index = your_list[0].index(\"thomas_id\")\n",
    "    party_index = your_list[0].index(\"party\")\n",
    "    legis_current = []\n",
    "    for row in range(len(your_list)):\n",
    "        person = your_list[row]\n",
    "        if len(person[thomas_index]) == 5:\n",
    "            thomas_id = Tidclean(person[thomas_index])\n",
    "            legis_current.append([person[bioguide_index], thomas_id, person[party_index]])\n",
    "        else:\n",
    "            legis_current.append([person[bioguide_index], person[thomas_index], person[party_index]])"
   ]
  },
  {
   "cell_type": "code",
   "execution_count": 3,
   "metadata": {
    "scrolled": true
   },
   "outputs": [],
   "source": [
    "import csv\n",
    "with open('data/legislators/legislators-historical.csv', 'r') as f:\n",
    "    reader = csv.reader(f)\n",
    "    your_list = list(reader)\n",
    "    bioguide_index = your_list[0].index(\"bioguide_id\")\n",
    "    thomas_index = your_list[0].index(\"thomas_id\")\n",
    "    party_index = your_list[0].index(\"party\")\n",
    "    legis_historical = []\n",
    "    for row in range(1,len(your_list)):\n",
    "        person = your_list[row]\n",
    "        if len(person[thomas_index]) == 5:\n",
    "            thomas_id = Tidclean(person[thomas_index])\n",
    "            legis_historical.append([person[bioguide_index], thomas_id, person[party_index]])\n",
    "        else:\n",
    "            legis_historical.append([person[bioguide_index], person[thomas_index], person[party_index]])"
   ]
  },
  {
   "cell_type": "code",
   "execution_count": 4,
   "metadata": {
    "scrolled": true
   },
   "outputs": [],
   "source": [
    "legislators_ID = []\n",
    "legislators_ID.extend(legis_current)\n",
    "legislators_ID.extend(legis_historical)"
   ]
  },
  {
   "cell_type": "code",
   "execution_count": 5,
   "metadata": {},
   "outputs": [],
   "source": [
    "import csv\n",
    "with open('data/legislators/legislators_ID.csv', 'w') as outcsv:   \n",
    "    writer = csv.writer(outcsv, delimiter=',', quotechar='|', quoting=csv.QUOTE_MINIMAL, lineterminator='\\n')\n",
    "    for item in legislators_ID:\n",
    "        writer.writerow([item[0], item[1], item[2]])"
   ]
  },
  {
   "cell_type": "code",
   "execution_count": 6,
   "metadata": {},
   "outputs": [],
   "source": [
    "with open('data/legislators/legislators_ID.csv', mode='r') as infile:\n",
    "    reader = csv.reader(infile)\n",
    "    dict_bioguide = {}\n",
    "    dict_thomas = {}\n",
    "    for person in reader:\n",
    "        dict_bioguide[person[0]] = person[2]\n",
    "        dict_thomas[person[1]] = person[2]"
   ]
  },
  {
   "cell_type": "code",
   "execution_count": 7,
   "metadata": {},
   "outputs": [],
   "source": [
    "# first we do is for hr bills, congress nr 112\n",
    "import json\n",
    "\n",
    "lo_bills = []\n",
    "\n",
    "# This is our module to get all the bill file paths.\n",
    "from bill_paths import get_bill_file_paths \n",
    "\n",
    "# All the bills are organized alphabetically so instead of hr1, hr2, hr3 you'll get hr1, hr10, hr100 but the order is not relevant to us.\n",
    "bill_paths = get_bill_file_paths(112)\n",
    "\n",
    "#allyears = range(1, 117) #Current year is 116\n",
    "#bill_paths = {}\n",
    "#for year in allyears:\n",
    " #   bill_paths[year] = get_bill_file_paths(year) \n",
    "# if year \n",
    "\n",
    "for path in bill_paths:\n",
    "    with open(path) as json_file:\n",
    "        bill = json.load(json_file)\n",
    "    # First check if the bill contains all the items we want for our project.\n",
    "        if (\"bill_id\" and \"official_title\" and \"subject_top_term\" and \"summary\" and \"sponsor\") in bill.keys():\n",
    "            if bill[\"summary\"] != None:\n",
    "                dictionary = {}\n",
    "                dictionary[\"bill_id\"] = bill[\"bill_id\"]\n",
    "    # We use the official title \n",
    "                dictionary[\"title\"] = bill[\"official_title\"] \n",
    "    # Most bills have many subjects so we decid to only look at the top term for clarity\n",
    "                dictionary[\"subject\"] = bill[\"subjects_top_term\"]\n",
    "                summary_ = bill[\"summary\"]\n",
    "                dictionary[\"summary\"] = summary_[\"text\"]\n",
    "                sponsor = bill[\"sponsor\"]\n",
    "                # find party in csv file from ID\n",
    "                if \"thomas_id\" in sponsor.keys():\n",
    "                    thomas_id = sponsor[\"thomas_id\"]\n",
    "                    party = dict_thomas[Tidclean(thomas_id)]\n",
    "                if \"bioguide_id\" in sponsor.keys():\n",
    "                    party = dict_bioguide[sponsor[\"bioguide_id\"]]\n",
    "                dictionary[\"party\"] = party\n",
    "    \n",
    "    # Appended to the list of bills \n",
    "        lo_bills.append(dictionary)\n",
    "            \n",
    "#per bill we create a dictionary containing the following data:\n",
    "#Bill id, Title, Summary\n",
    "# then, we create a list of all these dictionaries"
   ]
  },
  {
   "cell_type": "code",
   "execution_count": 8,
   "metadata": {},
   "outputs": [],
   "source": [
    "import csv\n",
    "\n",
    "with open('data/112.csv', 'w') as csvfile:\n",
    "    filewriter = csv.writer(csvfile, delimiter='|')\n",
    "    filewriter.writerow(['bill_id', 'title', 'subject','summary', 'party'])\n",
    "    for bill in lo_bills:\n",
    "        filewriter.writerow([bill['bill_id'], bill['title'], bill['subject'], bill['summary'], bill['party']])"
   ]
  }
 ],
 "metadata": {
  "kernelspec": {
   "display_name": "Python 3",
   "language": "python",
   "name": "python3"
  },
  "language_info": {
   "codemirror_mode": {
    "name": "ipython",
    "version": 3
   },
   "file_extension": ".py",
   "mimetype": "text/x-python",
   "name": "python",
   "nbconvert_exporter": "python",
   "pygments_lexer": "ipython3",
   "version": "3.7.3"
  }
 },
 "nbformat": 4,
 "nbformat_minor": 2
}
