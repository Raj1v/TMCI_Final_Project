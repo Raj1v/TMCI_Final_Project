{
 "cells": [
  {
   "cell_type": "code",
   "execution_count": 37,
   "metadata": {},
   "outputs": [],
   "source": [
    "def Tidclean(Tid):\n",
    "    i = 0\n",
    "    while Tid[i] == \"0\":\n",
    "        i += 1\n",
    "    return Tid[i:]"
   ]
  },
  {
   "cell_type": "code",
   "execution_count": null,
   "metadata": {},
   "outputs": [],
   "source": [
    "# make a dict were id's are keys and parties are values"
   ]
  },
  {
   "cell_type": "code",
   "execution_count": 33,
   "metadata": {},
   "outputs": [
    {
     "name": "stdout",
     "output_type": "stream",
     "text": [
      "[['McConnell', 'Mitch', '', '', '', 'Mitch McConnell', '1942-02-20', 'M', 'sen', 'KY', '', '2', 'Republican', 'https://www.mcconnell.senate.gov', '317 Russell Senate Office Building Washington DC 20510', '202-224-2541', 'http://www.mcconnell.senate.gov/public/index.cfm?p=contact', 'http://www.mcconnell.senate.gov/public/?a=rss.feed', 'McConnellPress', 'mitchmcconnell', '', '', 'M000355', '01395', 'N00003389', 'S174', 'S2KY00012', '2351', '300072', '53298', 'Mitch McConnell', '', '14921', 'Mitch McConnell'], ['Merkley', 'Jeff', '', '', '', 'Jeff Merkley', '1956-10-24', 'M', 'sen', 'OR', '', '2', 'Democrat', 'https://www.merkley.senate.gov', '313 Hart Senate Office Building Washington DC 20510', '202-224-3753', 'http://www.merkley.senate.gov/contact/', 'http://www.merkley.senate.gov/rss/', 'SenJeffMerkley', 'jeffmerkley', 'SenatorJeffMerkley', 'UCRoXttCJhMnLVCxCaa6VnNQ', 'M001176', '01900', 'N00029303', 'S322', 'S8OR00207', '1029842', '412325', '23644', 'Jeff Merkley', '', '40908', 'Jeff Merkley']]\n"
     ]
    }
   ],
   "source": [
    "print(your_list[22:24])"
   ]
  },
  {
   "cell_type": "code",
   "execution_count": 39,
   "metadata": {},
   "outputs": [
    {
     "ename": "IndexError",
     "evalue": "string index out of range",
     "output_type": "error",
     "traceback": [
      "\u001b[0;31m---------------------------------------------------------------------------\u001b[0m",
      "\u001b[0;31mIndexError\u001b[0m                                Traceback (most recent call last)",
      "\u001b[0;32m<ipython-input-39-08088f2b2aef>\u001b[0m in \u001b[0;36m<module>\u001b[0;34m\u001b[0m\n\u001b[1;32m      9\u001b[0m     \u001b[0;32mfor\u001b[0m \u001b[0mrow\u001b[0m \u001b[0;32min\u001b[0m \u001b[0mrange\u001b[0m\u001b[0;34m(\u001b[0m\u001b[0;36m1\u001b[0m\u001b[0;34m,\u001b[0m\u001b[0mlen\u001b[0m\u001b[0;34m(\u001b[0m\u001b[0myour_list\u001b[0m\u001b[0;34m)\u001b[0m\u001b[0;34m)\u001b[0m\u001b[0;34m:\u001b[0m\u001b[0;34m\u001b[0m\u001b[0;34m\u001b[0m\u001b[0m\n\u001b[1;32m     10\u001b[0m         \u001b[0mperson\u001b[0m \u001b[0;34m=\u001b[0m \u001b[0myour_list\u001b[0m\u001b[0;34m[\u001b[0m\u001b[0mrow\u001b[0m\u001b[0;34m]\u001b[0m\u001b[0;34m\u001b[0m\u001b[0;34m\u001b[0m\u001b[0m\n\u001b[0;32m---> 11\u001b[0;31m         \u001b[0mthomas_id\u001b[0m \u001b[0;34m=\u001b[0m \u001b[0mTidclean\u001b[0m\u001b[0;34m(\u001b[0m\u001b[0mperson\u001b[0m\u001b[0;34m[\u001b[0m\u001b[0mthomas_index\u001b[0m\u001b[0;34m]\u001b[0m\u001b[0;34m)\u001b[0m\u001b[0;34m\u001b[0m\u001b[0;34m\u001b[0m\u001b[0m\n\u001b[0m\u001b[1;32m     12\u001b[0m         \u001b[0mfinal_list\u001b[0m\u001b[0;34m.\u001b[0m\u001b[0mappend\u001b[0m\u001b[0;34m(\u001b[0m\u001b[0;34m[\u001b[0m\u001b[0mperson\u001b[0m\u001b[0;34m[\u001b[0m\u001b[0mbioguide_index\u001b[0m\u001b[0;34m]\u001b[0m\u001b[0;34m,\u001b[0m \u001b[0mthomas_id\u001b[0m\u001b[0;34m,\u001b[0m \u001b[0mperson\u001b[0m\u001b[0;34m[\u001b[0m\u001b[0mparty_index\u001b[0m\u001b[0;34m]\u001b[0m\u001b[0;34m]\u001b[0m\u001b[0;34m)\u001b[0m\u001b[0;34m\u001b[0m\u001b[0;34m\u001b[0m\u001b[0m\n\u001b[1;32m     13\u001b[0m \u001b[0;34m\u001b[0m\u001b[0m\n",
      "\u001b[0;32m<ipython-input-37-42081c091ddc>\u001b[0m in \u001b[0;36mTidclean\u001b[0;34m(Tid)\u001b[0m\n\u001b[1;32m      1\u001b[0m \u001b[0;32mdef\u001b[0m \u001b[0mTidclean\u001b[0m\u001b[0;34m(\u001b[0m\u001b[0mTid\u001b[0m\u001b[0;34m)\u001b[0m\u001b[0;34m:\u001b[0m\u001b[0;34m\u001b[0m\u001b[0;34m\u001b[0m\u001b[0m\n\u001b[1;32m      2\u001b[0m     \u001b[0mi\u001b[0m \u001b[0;34m=\u001b[0m \u001b[0;36m0\u001b[0m\u001b[0;34m\u001b[0m\u001b[0;34m\u001b[0m\u001b[0m\n\u001b[0;32m----> 3\u001b[0;31m     \u001b[0;32mwhile\u001b[0m \u001b[0mTid\u001b[0m\u001b[0;34m[\u001b[0m\u001b[0mi\u001b[0m\u001b[0;34m]\u001b[0m \u001b[0;34m==\u001b[0m \u001b[0;34m\"0\"\u001b[0m\u001b[0;34m:\u001b[0m\u001b[0;34m\u001b[0m\u001b[0;34m\u001b[0m\u001b[0m\n\u001b[0m\u001b[1;32m      4\u001b[0m         \u001b[0mi\u001b[0m \u001b[0;34m+=\u001b[0m \u001b[0;36m1\u001b[0m\u001b[0;34m\u001b[0m\u001b[0;34m\u001b[0m\u001b[0m\n\u001b[1;32m      5\u001b[0m     \u001b[0;32mreturn\u001b[0m \u001b[0mTid\u001b[0m\u001b[0;34m[\u001b[0m\u001b[0mi\u001b[0m\u001b[0;34m:\u001b[0m\u001b[0;34m]\u001b[0m\u001b[0;34m\u001b[0m\u001b[0;34m\u001b[0m\u001b[0m\n",
      "\u001b[0;31mIndexError\u001b[0m: string index out of range"
     ]
    }
   ],
   "source": [
    "import csv\n",
    "with open('data/legislators/legislators-current.csv', 'r') as f:\n",
    "    reader = csv.reader(f)\n",
    "    your_list = list(reader)\n",
    "    bioguide_index = your_list[0].index(\"bioguide_id\")\n",
    "    thomas_index = your_list[0].index(\"thomas_id\")\n",
    "    party_index = your_list[0].index(\"party\")\n",
    "    final_list = [[\"bioguide_id\", \"thomas_id\", \"party\"]]\n",
    "    for row in range(1,len(your_list)):\n",
    "        person = your_list[row]\n",
    "        thomas_id = Tidclean(person[thomas_index])\n",
    "        final_list.append([person[bioguide_index], thomas_id, person[party_index]])\n",
    "        \n",
    "print(final_list[:20])"
   ]
  },
  {
   "cell_type": "code",
   "execution_count": 5,
   "metadata": {},
   "outputs": [],
   "source": [
    "# first we do is for hr bills, congress nr 112\n",
    "import json\n",
    "\n",
    "lo_bills = []\n",
    "\n",
    "# This is our module to get all the bill file paths.\n",
    "from bill_paths import get_bill_file_paths \n",
    "\n",
    "# All the bills are organized alphabetically so instead of hr1, hr2, hr3 you'll get hr1, hr10, hr100 but the order is not relevant to us.\n",
    "bill_paths = get_bill_file_paths(112)\n",
    "\n",
    "#allyears = range(1, 117) #Current year is 116\n",
    "#bill_paths = {}\n",
    "#for year in allyears:\n",
    " #   bill_paths[year] = get_bill_file_paths(year) \n",
    "# if year \n",
    "\n",
    "for path in bill_paths:\n",
    "    with open(path) as json_file:\n",
    "        bill = json.load(json_file)\n",
    "    # First check if the bill contains all the items we want for our project.\n",
    "        if (\"bill_id\" and \"official_title\" and \"subject_top_term\" and \"summary\" and \"sponsor\") in bill.keys():\n",
    "            if bill[\"summary\"] != None:\n",
    "                dictionary = {}\n",
    "                dictionary[\"bill_id\"] = bill[\"bill_id\"]\n",
    "    # We use the official title \n",
    "                dictionary[\"title\"] = bill[\"official_title\"] \n",
    "    # Most bills have many subjects so we decid to only look at the top term for clarity\n",
    "                dictionary[\"subject\"] = bill[\"subjects_top_term\"]\n",
    "                summary_ = bill[\"summary\"]\n",
    "                dictionary[\"summary\"] = summary_[\"text\"]\n",
    "                sponsor = bill[\"sponsor\"]\n",
    "                if \"thomas_id\" in sponsor.keys():\n",
    "                    thomas_id = sponsor[\"thomas_id\"]\n",
    "                    party = TidtoParty(thomas_id)\n",
    "                if \"bioguide_id\" in sponsor.keys():\n",
    "                    \n",
    "                dictionary[\"party\"] = party\n",
    "    \n",
    "    # Appended to the list of bills \n",
    "        lo_bills.append(dictionary)\n",
    "            \n",
    "#per bill we create a dictionary containing the following data:\n",
    "#Bill id, Title, Summary\n",
    "# then, we create a list of all these dictionaries"
   ]
  },
  {
   "cell_type": "code",
   "execution_count": 6,
   "metadata": {},
   "outputs": [],
   "source": [
    "import csv\n",
    "\n",
    "with open('112.csv', 'w') as csvfile:\n",
    "    filewriter = csv.writer(csvfile, delimiter='|')\n",
    "    filewriter.writerow(['bill_id', 'title', 'subject','summary'])\n",
    "    for bill in lo_bills:\n",
    "        filewriter.writerow([bill['bill_id'], bill['title'], bill['subject'], bill['summary']])"
   ]
  },
  {
   "cell_type": "code",
   "execution_count": null,
   "metadata": {},
   "outputs": [],
   "source": []
  }
 ],
 "metadata": {
  "kernelspec": {
   "display_name": "Python 3",
   "language": "python",
   "name": "python3"
  },
  "language_info": {
   "codemirror_mode": {
    "name": "ipython",
    "version": 3
   },
   "file_extension": ".py",
   "mimetype": "text/x-python",
   "name": "python",
   "nbconvert_exporter": "python",
   "pygments_lexer": "ipython3",
   "version": "3.7.3"
  }
 },
 "nbformat": 4,
 "nbformat_minor": 2
}
